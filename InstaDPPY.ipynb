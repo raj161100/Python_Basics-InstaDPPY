{
 "cells": [
  {
   "cell_type": "code",
   "execution_count": null,
   "metadata": {},
   "outputs": [],
   "source": [
    "import instaloader\n",
    "\n",
    "mod = instaloader.Instaloader()\n",
    "\n",
    "a = input(\"Enter Username : \")\n",
    "\n",
    "mod.download_profile(a,profile_pic_only=True)"
   ]
  },
  {
   "cell_type": "code",
   "execution_count": 2,
   "metadata": {},
   "outputs": [
    {
     "name": "stdout",
     "output_type": "stream",
     "text": [
      "enter username of instagram : virat.kohli\n",
      "https://instagram.fwgc1-1.fna.fbcdn.net/v/t51.2885-19/s320x320/73387420_2155661591394787_2221102320916103168_n.jpg?_nc_ht=instagram.fwgc1-1.fna.fbcdn.net\\u0026_nc_ohc=e_GbhOWLMVkAX-KF5MQ\\u0026oh=3ce2830839b9914c277307a789dd1bbc\\u0026oe=5F677E62 \n",
      " \n",
      " downloading..........\n",
      "<Response [403]>\n",
      "\n",
      "                downloading completed ..............\n"
     ]
    }
   ],
   "source": [
    "import requests \n",
    "from bs4 import BeautifulSoup as bs \n",
    "import json \n",
    "import random \n",
    "import os.path \n",
    "  \n",
    "insta_url ='https://www.instagram.com'\n",
    "inta_username = input('enter username of instagram : ') \n",
    "  \n",
    "response = requests.get(f\"{insta_url}/{inta_username}/\") \n",
    "  \n",
    "if response.ok: \n",
    "    html = response.text \n",
    "    bs_html = bs(html, features =\"lxml\") \n",
    "    bs_html = bs_html.text \n",
    "    index = bs_html.find('profile_pic_url_hd')+21\n",
    "    remaining_text = bs_html[index:] \n",
    "    remaining_text_index = remaining_text.find('requested_by_viewer')-3\n",
    "    string_url = remaining_text[:remaining_text_index] \n",
    "  \n",
    "    print(string_url, \"\\n \\n downloading..........\") \n",
    "  \n",
    "  \n",
    "while True: \n",
    "    filename ='pic'+str(random.randint(1, 100000))+'.jpg'\n",
    "    file_exists = os.path.isfile(filename) \n",
    "  \n",
    "    if not file_exists: \n",
    "        with open(filename, 'wb+') as handle: \n",
    "            response = requests.get(string_url, stream = True) \n",
    "            if not response.ok: \n",
    "                print(response) \n",
    "            for block in response.iter_content(1024): \n",
    "                if not block: \n",
    "                    break\n",
    "                handle.write(block) \n",
    "    else: \n",
    "        continue\n",
    "    break\n",
    "print(\"\\n                downloading completed ..............\") "
   ]
  },
  {
   "cell_type": "code",
   "execution_count": 5,
   "metadata": {
    "collapsed": true
   },
   "outputs": [
    {
     "data": {
      "image/jpeg": "[encoded data removed]",
      "text/plain": [
       "<IPython.core.display.Image object>"
      ]
     },
     "execution_count": 5,
     "metadata": {},
     "output_type": "execute_result"
    }
   ],
   "source": []
  },
  {
   "cell_type": "code",
   "execution_count": null,
   "metadata": {},
   "outputs": [],
   "source": []
  }
 ],
 "metadata": {
  "kernelspec": {
   "display_name": "Python 3",
   "language": "python",
   "name": "python3"
  },
  "language_info": {
   "codemirror_mode": {
    "name": "ipython",
    "version": 3
   },
   "file_extension": ".py",
   "mimetype": "text/x-python",
   "name": "python",
   "nbconvert_exporter": "python",
   "pygments_lexer": "ipython3",
   "version": "3.6.5"
  }
 },
 "nbformat": 4,
 "nbformat_minor": 2
}
